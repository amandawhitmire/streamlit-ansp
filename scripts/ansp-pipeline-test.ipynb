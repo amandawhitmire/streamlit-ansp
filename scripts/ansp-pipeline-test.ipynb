{
 "cells": [
  {
   "cell_type": "markdown",
   "id": "43f1febf-ac19-45bd-aa32-4bf976fa36b3",
   "metadata": {},
   "source": [
    "## Testing code used in my ANSP Streamlit app\n",
    "\n",
    "Below is mostly the _exact same code_ as in my Streamlit app file `app.py` (with the exception of the displacy stuff at the end). Along the way I tested aspects of the python code here first before adding it to the Streamlit file. "
   ]
  },
  {
   "cell_type": "code",
   "execution_count": 1,
   "id": "f8a98fcd-a07a-46c7-ab13-3c0df3815cd8",
   "metadata": {},
   "outputs": [],
   "source": [
    "# load packages \n",
    "\n",
    "import spacy\n",
    "from pathlib import Path\n",
    "import srsly\n",
    "import importlib\n",
    "import random\n",
    "from spacy.pipeline import EntityRuler # Import the Entity Ruler for making custom entities\n",
    "from spacy.language import Language  # type: ignore \n",
    "import json\n",
    "# Import the spaCy visualizer\n",
    "from spacy import displacy\n",
    "import pandas as pd"
   ]
  },
  {
   "cell_type": "code",
   "execution_count": 2,
   "id": "30e50407-a812-4969-9c47-bb50a8c357d3",
   "metadata": {},
   "outputs": [],
   "source": [
    "# streamlit setup stuff\n",
    "MODELS = srsly.read_json(\"/Users/thalassa/streamlit/streamlit-ansp/models.json\")\n",
    "DEFAULT_MODEL = \"en_core_web_sm\"\n",
    "DEFAULT_TEXT =  \"Frances Naomi Clark was an American ichthyologist born in 1894, and was one of the first woman fishery researchers to receive world-wide recognition. Frances Naomi Clark was an American ichthyologist born in 1894, and was one of the first woman fishery researchers to receive world-wide recognition. Seven Ampelis cedrorum specimens were collected in a meadow near lowland fruit trees. Some habitats we know are in the json file are near large rocks, near river mouths, near the bottom and near the ocean. Some species names are Hemigrapsus affinis, Hemigrapsus crassimanus, Hendersonia alternifoliae and Hendersonia celtifolia.\"\n",
    "DESCRIPTION = \"\"\"**Explore trained [spaCy v3.0](https://nightly.spacy.io) pipelines with the Proceedings of the Academy of Natural Sciences of Philadelphia**\"\"\"\n"
   ]
  },
  {
   "cell_type": "code",
   "execution_count": 3,
   "id": "705be3f4-219d-41dc-b043-9c88abfd2d87",
   "metadata": {},
   "outputs": [
    {
     "data": {
      "text/plain": [
       "<spacy.pipeline.entityruler.EntityRuler at 0x16eebd2c0>"
      ]
     },
     "execution_count": 3,
     "metadata": {},
     "output_type": "execute_result"
    }
   ],
   "source": [
    "text = DEFAULT_TEXT\n",
    "    # doc = spacy_streamlit.process_text(NLP, text)\n",
    "\n",
    "nlp = spacy.load(DEFAULT_MODEL)\n",
    "ruler = nlp.add_pipe(\"entity_ruler\", before='ner')\n",
    "ruler.from_disk(\"/Users/thalassa/streamlit/streamlit-ansp/ansp-patterns.jsonl\")\n"
   ]
  },
  {
   "cell_type": "code",
   "execution_count": 4,
   "id": "380d4275-f9da-4eb7-b767-d16c82557fb1",
   "metadata": {},
   "outputs": [
    {
     "data": {
      "text/plain": [
       "[('tok2vec', <spacy.pipeline.tok2vec.Tok2Vec at 0x170973f90>),\n",
       " ('tagger', <spacy.pipeline.tagger.Tagger at 0x1709af1d0>),\n",
       " ('parser', <spacy.pipeline.dep_parser.DependencyParser at 0x1706c3e80>),\n",
       " ('attribute_ruler',\n",
       "  <spacy.pipeline.attributeruler.AttributeRuler at 0x170959f80>),\n",
       " ('lemmatizer', <spacy.lang.en.lemmatizer.EnglishLemmatizer at 0x170952c80>),\n",
       " ('entity_ruler', <spacy.pipeline.entityruler.EntityRuler at 0x16eebd2c0>),\n",
       " ('ner', <spacy.pipeline.ner.EntityRecognizer at 0x1706c3fa0>)]"
      ]
     },
     "execution_count": 4,
     "metadata": {},
     "output_type": "execute_result"
    }
   ],
   "source": [
    "# Check the pipeline. The entity_ruler should happen *before* ner.\n",
    "nlp.pipeline"
   ]
  },
  {
   "cell_type": "code",
   "execution_count": 5,
   "id": "c4693936-5cce-4f56-9980-0394e5839341",
   "metadata": {},
   "outputs": [],
   "source": [
    "doc = nlp(text)"
   ]
  },
  {
   "cell_type": "code",
   "execution_count": 6,
   "id": "0025c4eb-30be-412d-9409-bc33af14f89f",
   "metadata": {},
   "outputs": [
    {
     "name": "stdout",
     "output_type": "stream",
     "text": [
      "Frances Naomi Clark 0 19 PERSON\n",
      "American 27 35 NORP\n",
      "1894 58 62 DATE\n",
      "one 72 75 CARDINAL\n",
      "Frances Naomi Clark 150 169 PERSON\n",
      "American 177 185 NORP\n",
      "1894 208 212 DATE\n",
      "one 222 225 CARDINAL\n",
      "Seven 300 305 CARDINAL\n",
      "Ampelis cedrorum 306 322 TAXA\n",
      "lowland fruit trees 365 384 HABITAT\n",
      "near large rocks 433 449 HABITAT\n",
      "near river mouths 451 468 HABITAT\n",
      "near the bottom 470 485 HABITAT\n",
      "near the ocean 490 504 HABITAT\n",
      "Hemigrapsus affinis 529 548 TAXA\n",
      "Hemigrapsus crassimanus 550 573 TAXA\n",
      "Hendersonia alternifoliae 575 600 TAXA\n",
      "Hendersonia celtifolia 605 627 TAXA\n"
     ]
    }
   ],
   "source": [
    "for ent in doc.ents:\n",
    "    print(ent.text, ent.start_char, ent.end_char, ent.label_)"
   ]
  },
  {
   "cell_type": "code",
   "execution_count": 7,
   "id": "d4af9561-1e58-4fb5-b4af-f277ddb1275d",
   "metadata": {},
   "outputs": [
    {
     "data": {
      "text/html": [
       "<span class=\"tex2jax_ignore\"><div class=\"entities\" style=\"line-height: 2.5; direction: ltr\">\n",
       "<mark class=\"entity\" style=\"background: #aa9cfc; padding: 0.45em 0.6em; margin: 0 0.25em; line-height: 1; border-radius: 0.35em;\">\n",
       "    Frances Naomi Clark\n",
       "    <span style=\"font-size: 0.8em; font-weight: bold; line-height: 1; border-radius: 0.35em; vertical-align: middle; margin-left: 0.5rem\">PERSON</span>\n",
       "</mark>\n",
       " was an \n",
       "<mark class=\"entity\" style=\"background: #c887fb; padding: 0.45em 0.6em; margin: 0 0.25em; line-height: 1; border-radius: 0.35em;\">\n",
       "    American\n",
       "    <span style=\"font-size: 0.8em; font-weight: bold; line-height: 1; border-radius: 0.35em; vertical-align: middle; margin-left: 0.5rem\">NORP</span>\n",
       "</mark>\n",
       " ichthyologist born in \n",
       "<mark class=\"entity\" style=\"background: #bfe1d9; padding: 0.45em 0.6em; margin: 0 0.25em; line-height: 1; border-radius: 0.35em;\">\n",
       "    1894\n",
       "    <span style=\"font-size: 0.8em; font-weight: bold; line-height: 1; border-radius: 0.35em; vertical-align: middle; margin-left: 0.5rem\">DATE</span>\n",
       "</mark>\n",
       ", and was \n",
       "<mark class=\"entity\" style=\"background: #e4e7d2; padding: 0.45em 0.6em; margin: 0 0.25em; line-height: 1; border-radius: 0.35em;\">\n",
       "    one\n",
       "    <span style=\"font-size: 0.8em; font-weight: bold; line-height: 1; border-radius: 0.35em; vertical-align: middle; margin-left: 0.5rem\">CARDINAL</span>\n",
       "</mark>\n",
       " of the first woman fishery researchers to receive world-wide recognition. \n",
       "<mark class=\"entity\" style=\"background: #aa9cfc; padding: 0.45em 0.6em; margin: 0 0.25em; line-height: 1; border-radius: 0.35em;\">\n",
       "    Frances Naomi Clark\n",
       "    <span style=\"font-size: 0.8em; font-weight: bold; line-height: 1; border-radius: 0.35em; vertical-align: middle; margin-left: 0.5rem\">PERSON</span>\n",
       "</mark>\n",
       " was an \n",
       "<mark class=\"entity\" style=\"background: #c887fb; padding: 0.45em 0.6em; margin: 0 0.25em; line-height: 1; border-radius: 0.35em;\">\n",
       "    American\n",
       "    <span style=\"font-size: 0.8em; font-weight: bold; line-height: 1; border-radius: 0.35em; vertical-align: middle; margin-left: 0.5rem\">NORP</span>\n",
       "</mark>\n",
       " ichthyologist born in \n",
       "<mark class=\"entity\" style=\"background: #bfe1d9; padding: 0.45em 0.6em; margin: 0 0.25em; line-height: 1; border-radius: 0.35em;\">\n",
       "    1894\n",
       "    <span style=\"font-size: 0.8em; font-weight: bold; line-height: 1; border-radius: 0.35em; vertical-align: middle; margin-left: 0.5rem\">DATE</span>\n",
       "</mark>\n",
       ", and was \n",
       "<mark class=\"entity\" style=\"background: #e4e7d2; padding: 0.45em 0.6em; margin: 0 0.25em; line-height: 1; border-radius: 0.35em;\">\n",
       "    one\n",
       "    <span style=\"font-size: 0.8em; font-weight: bold; line-height: 1; border-radius: 0.35em; vertical-align: middle; margin-left: 0.5rem\">CARDINAL</span>\n",
       "</mark>\n",
       " of the first woman fishery researchers to receive world-wide recognition. \n",
       "<mark class=\"entity\" style=\"background: #e4e7d2; padding: 0.45em 0.6em; margin: 0 0.25em; line-height: 1; border-radius: 0.35em;\">\n",
       "    Seven\n",
       "    <span style=\"font-size: 0.8em; font-weight: bold; line-height: 1; border-radius: 0.35em; vertical-align: middle; margin-left: 0.5rem\">CARDINAL</span>\n",
       "</mark>\n",
       " \n",
       "<mark class=\"entity\" style=\"background: #ddd; padding: 0.45em 0.6em; margin: 0 0.25em; line-height: 1; border-radius: 0.35em;\">\n",
       "    Ampelis cedrorum\n",
       "    <span style=\"font-size: 0.8em; font-weight: bold; line-height: 1; border-radius: 0.35em; vertical-align: middle; margin-left: 0.5rem\">TAXA</span>\n",
       "</mark>\n",
       " specimens were collected in a meadow near \n",
       "<mark class=\"entity\" style=\"background: #ddd; padding: 0.45em 0.6em; margin: 0 0.25em; line-height: 1; border-radius: 0.35em;\">\n",
       "    lowland fruit trees\n",
       "    <span style=\"font-size: 0.8em; font-weight: bold; line-height: 1; border-radius: 0.35em; vertical-align: middle; margin-left: 0.5rem\">HABITAT</span>\n",
       "</mark>\n",
       ". Some habitats we know are in the json file are \n",
       "<mark class=\"entity\" style=\"background: #ddd; padding: 0.45em 0.6em; margin: 0 0.25em; line-height: 1; border-radius: 0.35em;\">\n",
       "    near large rocks\n",
       "    <span style=\"font-size: 0.8em; font-weight: bold; line-height: 1; border-radius: 0.35em; vertical-align: middle; margin-left: 0.5rem\">HABITAT</span>\n",
       "</mark>\n",
       ", \n",
       "<mark class=\"entity\" style=\"background: #ddd; padding: 0.45em 0.6em; margin: 0 0.25em; line-height: 1; border-radius: 0.35em;\">\n",
       "    near river mouths\n",
       "    <span style=\"font-size: 0.8em; font-weight: bold; line-height: 1; border-radius: 0.35em; vertical-align: middle; margin-left: 0.5rem\">HABITAT</span>\n",
       "</mark>\n",
       ", \n",
       "<mark class=\"entity\" style=\"background: #ddd; padding: 0.45em 0.6em; margin: 0 0.25em; line-height: 1; border-radius: 0.35em;\">\n",
       "    near the bottom\n",
       "    <span style=\"font-size: 0.8em; font-weight: bold; line-height: 1; border-radius: 0.35em; vertical-align: middle; margin-left: 0.5rem\">HABITAT</span>\n",
       "</mark>\n",
       " and \n",
       "<mark class=\"entity\" style=\"background: #ddd; padding: 0.45em 0.6em; margin: 0 0.25em; line-height: 1; border-radius: 0.35em;\">\n",
       "    near the ocean\n",
       "    <span style=\"font-size: 0.8em; font-weight: bold; line-height: 1; border-radius: 0.35em; vertical-align: middle; margin-left: 0.5rem\">HABITAT</span>\n",
       "</mark>\n",
       ". Some species names are \n",
       "<mark class=\"entity\" style=\"background: #ddd; padding: 0.45em 0.6em; margin: 0 0.25em; line-height: 1; border-radius: 0.35em;\">\n",
       "    Hemigrapsus affinis\n",
       "    <span style=\"font-size: 0.8em; font-weight: bold; line-height: 1; border-radius: 0.35em; vertical-align: middle; margin-left: 0.5rem\">TAXA</span>\n",
       "</mark>\n",
       ", \n",
       "<mark class=\"entity\" style=\"background: #ddd; padding: 0.45em 0.6em; margin: 0 0.25em; line-height: 1; border-radius: 0.35em;\">\n",
       "    Hemigrapsus crassimanus\n",
       "    <span style=\"font-size: 0.8em; font-weight: bold; line-height: 1; border-radius: 0.35em; vertical-align: middle; margin-left: 0.5rem\">TAXA</span>\n",
       "</mark>\n",
       ", \n",
       "<mark class=\"entity\" style=\"background: #ddd; padding: 0.45em 0.6em; margin: 0 0.25em; line-height: 1; border-radius: 0.35em;\">\n",
       "    Hendersonia alternifoliae\n",
       "    <span style=\"font-size: 0.8em; font-weight: bold; line-height: 1; border-radius: 0.35em; vertical-align: middle; margin-left: 0.5rem\">TAXA</span>\n",
       "</mark>\n",
       " and \n",
       "<mark class=\"entity\" style=\"background: #ddd; padding: 0.45em 0.6em; margin: 0 0.25em; line-height: 1; border-radius: 0.35em;\">\n",
       "    Hendersonia celtifolia\n",
       "    <span style=\"font-size: 0.8em; font-weight: bold; line-height: 1; border-radius: 0.35em; vertical-align: middle; margin-left: 0.5rem\">TAXA</span>\n",
       "</mark>\n",
       ".</div></span>"
      ],
      "text/plain": [
       "<IPython.core.display.HTML object>"
      ]
     },
     "metadata": {},
     "output_type": "display_data"
    }
   ],
   "source": [
    "displacy.render(doc, style=\"ent\", jupyter=True)"
   ]
  },
  {
   "cell_type": "code",
   "execution_count": 8,
   "id": "02afa6d1-561c-4af8-aa6b-ddd4d6b6c1de",
   "metadata": {},
   "outputs": [
    {
     "name": "stdout",
     "output_type": "stream",
     "text": [
      "Frances Frances PROPN NNP compound Clark PERSON True False False\n",
      "Naomi Naomi PROPN NNP compound Clark PERSON True False False\n",
      "Clark Clark PROPN NNP nsubj was PERSON True False False\n",
      "was be AUX VBD ROOT was  True False True\n",
      "an an DET DT det ichthyologist  True False True\n",
      "American american ADJ JJ amod ichthyologist NORP True False False\n",
      "ichthyologist ichthyologist NOUN NN attr was  True False False\n",
      "born bear VERB VBN acl ichthyologist  True False False\n",
      "in in ADP IN prep born  True False True\n",
      "1894 1894 NUM CD pobj in DATE False False False\n",
      ", , PUNCT , punct was  False True False\n",
      "and and CCONJ CC cc was  True False True\n",
      "was be VERB VBD conj was  True False True\n",
      "one one NUM CD attr was CARDINAL True False True\n",
      "of of ADP IN prep one  True False True\n",
      "the the DET DT det researchers  True False True\n",
      "first first ADJ JJ amod woman  True False True\n",
      "woman woman NOUN NN compound researchers  True False False\n",
      "fishery fishery NOUN NN compound researchers  True False False\n",
      "researchers researcher NOUN NNS pobj of  True False False\n",
      "to to PART TO aux receive  True False True\n",
      "receive receive VERB VB xcomp was  True False False\n",
      "world world NOUN NN npadvmod wide  True False False\n",
      "- - PUNCT HYPH punct wide  False True False\n",
      "wide wide ADJ JJ amod recognition  True False False\n",
      "recognition recognition NOUN NN dobj receive  True False False\n",
      ". . PUNCT . punct was  False True False\n",
      "Frances france NOUN NNS compound Clark PERSON True False False\n",
      "Naomi Naomi PROPN NNP compound Clark PERSON True False False\n",
      "Clark Clark PROPN NNP nsubj was PERSON True False False\n",
      "was be AUX VBD ROOT was  True False True\n",
      "an an DET DT det ichthyologist  True False True\n",
      "American american ADJ JJ amod ichthyologist NORP True False False\n",
      "ichthyologist ichthyologist NOUN NN attr was  True False False\n",
      "born bear VERB VBN acl ichthyologist  True False False\n",
      "in in ADP IN prep born  True False True\n",
      "1894 1894 NUM CD pobj in DATE False False False\n",
      ", , PUNCT , punct was  False True False\n",
      "and and CCONJ CC cc was  True False True\n",
      "was be VERB VBD conj was  True False True\n",
      "one one NUM CD attr was CARDINAL True False True\n",
      "of of ADP IN prep one  True False True\n",
      "the the DET DT det researchers  True False True\n",
      "first first ADJ JJ amod woman  True False True\n",
      "woman woman NOUN NN compound researchers  True False False\n",
      "fishery fishery NOUN NN compound researchers  True False False\n",
      "researchers researcher NOUN NNS pobj of  True False False\n",
      "to to PART TO aux receive  True False True\n",
      "receive receive VERB VB xcomp was  True False False\n",
      "world world NOUN NN npadvmod wide  True False False\n",
      "- - PUNCT HYPH punct wide  False True False\n",
      "wide wide ADJ JJ amod recognition  True False False\n",
      "recognition recognition NOUN NN dobj receive  True False False\n",
      ". . PUNCT . punct was  False True False\n",
      "Seven seven NUM CD nummod cedrorum CARDINAL True False False\n",
      "Ampelis Ampelis PROPN NNP compound cedrorum TAXA True False False\n",
      "cedrorum cedrorum NOUN NN compound specimens TAXA True False False\n",
      "specimens specimen NOUN NNS nsubjpass collected  True False False\n",
      "were be AUX VBD auxpass collected  True False True\n",
      "collected collect VERB VBN ROOT collected  True False False\n",
      "in in ADP IN prep collected  True False True\n",
      "a a DET DT det meadow  True False True\n",
      "meadow meadow NOUN NN pobj in  True False False\n",
      "near near SCONJ IN prep meadow  True False False\n",
      "lowland lowland PROPN NNP compound trees HABITAT True False False\n",
      "fruit fruit NOUN NN compound trees HABITAT True False False\n",
      "trees tree NOUN NNS pobj near HABITAT True False False\n",
      ". . PUNCT . punct collected  False True False\n",
      "Some some DET DT det habitats  True False True\n",
      "habitats habitat NOUN NNS nsubj are  True False False\n",
      "we we PRON PRP nsubj know  True False True\n",
      "know know VERB VBP parataxis are  True False False\n",
      "are be VERB VBP csubj are  True False True\n",
      "in in ADP IN prep are  True False True\n",
      "the the DET DT det file  True False True\n",
      "json json NOUN NN compound file  True False False\n",
      "file file NOUN NN pobj in  True False False\n",
      "are be AUX VBP ROOT are  True False True\n",
      "near near SCONJ IN prep are HABITAT True False False\n",
      "large large ADJ JJ amod rocks HABITAT True False False\n",
      "rocks rock NOUN NNS pobj near HABITAT True False False\n",
      ", , PUNCT , punct are  False True False\n",
      "near near SCONJ IN prep are HABITAT True False False\n",
      "river river NOUN NN compound mouths HABITAT True False False\n",
      "mouths mouth NOUN NNS pobj near HABITAT True False False\n",
      ", , PUNCT , punct are  False True False\n",
      "near near SCONJ IN prep are HABITAT True False False\n",
      "the the DET DT det bottom HABITAT True False True\n",
      "bottom bottom NOUN NN pobj near HABITAT True False True\n",
      "and and CCONJ CC cc near  True False True\n",
      "near near SCONJ IN conj near HABITAT True False False\n",
      "the the DET DT det ocean HABITAT True False True\n",
      "ocean ocean NOUN NN pobj near HABITAT True False False\n",
      ". . PUNCT . punct are  False True False\n",
      "Some some DET DT det names  True False True\n",
      "species species NOUN NN compound names  True False False\n",
      "names name NOUN NNS nsubj are  True False False\n",
      "are be AUX VBP ROOT are  True False True\n",
      "Hemigrapsus Hemigrapsus PROPN NNP compound affinis TAXA True False False\n",
      "affinis affini NOUN NNS attr are TAXA True False False\n",
      ", , PUNCT , punct are  False True False\n",
      "Hemigrapsus Hemigrapsus PROPN NNP compound crassimanus TAXA True False False\n",
      "crassimanus crassimanus NOUN NN attr are TAXA True False False\n",
      ", , PUNCT , punct crassimanus  False True False\n",
      "Hendersonia Hendersonia PROPN NNP compound alternifoliae TAXA True False False\n",
      "alternifoliae alternifoliae PROPN NNP appos crassimanus TAXA True False False\n",
      "and and CCONJ CC cc alternifoliae  True False True\n",
      "Hendersonia Hendersonia PROPN NNP compound celtifolia TAXA True False False\n",
      "celtifolia celtifolia NOUN NNS conj alternifoliae TAXA True False False\n",
      ". . PUNCT . punct are  False True False\n"
     ]
    }
   ],
   "source": [
    "for token in doc:\n",
    "    print(token.text, token.lemma_, token.pos_, token.tag_, token.dep_, token.head, \n",
    "            token.ent_type_, token.is_alpha, token.is_punct, token.is_stop)"
   ]
  },
  {
   "cell_type": "code",
   "execution_count": 12,
   "id": "8a1d9068-5a91-4282-88eb-7134a3aa5afc",
   "metadata": {},
   "outputs": [],
   "source": [
    "rows = []\n",
    "\n",
    "for token in doc:\n",
    "    rows.append(\n",
    "        {\n",
    "            'Token': token.text, \n",
    "            'Lemma': token.lemma_,\n",
    "            'POS': token.pos_,\n",
    "            'Tag': token.tag_,\n",
    "            'Dependency': token.dep_,\n",
    "            'Head': token.head,\n",
    "            'Ent Type': token.ent_type_,\n",
    "            'IsAlpha': token.is_alpha,\n",
    "            'IsPunct': token.is_punct,\n",
    "            'IsStop': token.is_stop\n",
    "        }\n",
    "    )   \n",
    "tokes = pd.DataFrame(rows)"
   ]
  },
  {
   "cell_type": "code",
   "execution_count": 11,
   "id": "b430099f-012b-4634-b178-2e04cc39f974",
   "metadata": {},
   "outputs": [
    {
     "name": "stdout",
     "output_type": "stream",
     "text": [
      "             Token          Lemma    POS  Tag Dependency           Head  \\\n",
      "0          Frances        Frances  PROPN  NNP   compound          Clark   \n",
      "1            Naomi          Naomi  PROPN  NNP   compound          Clark   \n",
      "2            Clark          Clark  PROPN  NNP      nsubj            was   \n",
      "3              was             be    AUX  VBD       ROOT            was   \n",
      "4               an             an    DET   DT        det  ichthyologist   \n",
      "..             ...            ...    ...  ...        ...            ...   \n",
      "105  alternifoliae  alternifoliae  PROPN  NNP      appos    crassimanus   \n",
      "106            and            and  CCONJ   CC         cc  alternifoliae   \n",
      "107    Hendersonia    Hendersonia  PROPN  NNP   compound     celtifolia   \n",
      "108     celtifolia     celtifolia   NOUN  NNS       conj  alternifoliae   \n",
      "109              .              .  PUNCT    .      punct            are   \n",
      "\n",
      "    Ent Type  IsAlpha  IsPunct  IsStop  \n",
      "0     PERSON     True    False   False  \n",
      "1     PERSON     True    False   False  \n",
      "2     PERSON     True    False   False  \n",
      "3                True    False    True  \n",
      "4                True    False    True  \n",
      "..       ...      ...      ...     ...  \n",
      "105     TAXA     True    False   False  \n",
      "106              True    False    True  \n",
      "107     TAXA     True    False   False  \n",
      "108     TAXA     True    False   False  \n",
      "109             False     True   False  \n",
      "\n",
      "[110 rows x 10 columns]\n"
     ]
    }
   ],
   "source": [
    "print(tokes)"
   ]
  },
  {
   "cell_type": "markdown",
   "id": "9993e64f-491b-4faa-9c0a-73fa1334d080",
   "metadata": {},
   "source": [
    "The tokens dataframe isn't catching the entity types for the custom entities. Need to fix that somehow..."
   ]
  },
  {
   "cell_type": "code",
   "execution_count": null,
   "id": "c9b37731-ae9c-4e26-b087-6aab4ecb3e01",
   "metadata": {},
   "outputs": [],
   "source": [
    " # to save the token for the custom etitites, we have to make a new set.\n",
    "    labels=list(nlp.get_pipe(\"ner\").labels)\n",
    "    for label in nlp.get_pipe(\"entity_ruler\").labels:\n",
    "        labels.append(label)"
   ]
  },
  {
   "cell_type": "code",
   "execution_count": null,
   "id": "42ee143e-316e-4d3c-a230-4819d26d18b9",
   "metadata": {},
   "outputs": [],
   "source": [
    "displacy.render(doc, style=\"dep\")"
   ]
  },
  {
   "cell_type": "code",
   "execution_count": null,
   "id": "438f609a-4fbe-470c-a89e-972365ebffb8",
   "metadata": {},
   "outputs": [],
   "source": []
  }
 ],
 "metadata": {
  "kernelspec": {
   "display_name": "Python 3 (ipykernel)",
   "language": "python",
   "name": "python3"
  },
  "language_info": {
   "codemirror_mode": {
    "name": "ipython",
    "version": 3
   },
   "file_extension": ".py",
   "mimetype": "text/x-python",
   "name": "python",
   "nbconvert_exporter": "python",
   "pygments_lexer": "ipython3",
   "version": "3.9.7"
  }
 },
 "nbformat": 4,
 "nbformat_minor": 5
}
